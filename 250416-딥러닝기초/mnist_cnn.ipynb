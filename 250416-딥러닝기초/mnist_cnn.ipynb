{
  "cells": [
    {
      "cell_type": "markdown",
      "id": "e66f1bf61018c6fe",
      "metadata": {
        "id": "e66f1bf61018c6fe"
      },
      "source": [
        "# MNIST dataset 파이토치 코드 예시"
      ]
    },
    {
      "cell_type": "markdown",
      "id": "97505d2a5ed4a225",
      "metadata": {
        "id": "97505d2a5ed4a225"
      },
      "source": [
        "## 개발 목표\n",
        "숫자 손글씨 이미지 데이터를 입력받아 그에 해당하는 숫자로 분류시키는 딥러닝 모델 개발"
      ]
    },
    {
      "cell_type": "markdown",
      "id": "1990f2c1aab8a36a",
      "metadata": {
        "id": "1990f2c1aab8a36a"
      },
      "source": [
        "## 데이터 확보 및 정제\n",
        "MNIST 데이터셋 활용"
      ]
    },
    {
      "cell_type": "code",
      "id": "initial_id",
      "metadata": {
        "ExecuteTime": {
          "end_time": "2025-04-15T11:27:36.398547Z",
          "start_time": "2025-04-15T11:27:36.250547Z"
        },
        "id": "initial_id"
      },
      "source": [
        "# 실제 데이터\n",
        "import torchvision\n",
        "import numpy as np\n",
        "import matplotlib.pyplot as plt\n",
        "\n",
        "mnist = torchvision.datasets.MNIST('dataset/', train=False, download=True)\n",
        "\n",
        "image, label = mnist[0]\n",
        "print()\n",
        "print(type(image))\n",
        "print(np.array(image).shape)\n",
        "\n",
        "plt.title(f\"label: {label}\")\n",
        "plt.imshow(image, cmap='gray')\n",
        "plt.show()"
      ],
      "outputs": [],
      "execution_count": null
    },
    {
      "metadata": {
        "ExecuteTime": {
          "end_time": "2025-04-15T11:30:55.601519Z",
          "start_time": "2025-04-15T11:30:55.581521Z"
        },
        "id": "cda4098f4c47deb2"
      },
      "cell_type": "code",
      "source": [
        "from torchvision.transforms import ToTensor\n",
        "from torch.utils.data import DataLoader\n",
        "\n",
        "# ToTensor: (28, 28) 의 PIL 이미지 데이터를 (1, 28, 28) 의 torch.Tensor 로 변경\n",
        "train_dataset = torchvision.datasets.MNIST('dataset/', train=False, download=True, transform=ToTensor())\n",
        "test_dataset = torchvision.datasets.MNIST('dataset/', train=False, download=True, transform=ToTensor())\n",
        "\n",
        "train_dataloader = DataLoader(train_dataset, batch_size=64, shuffle=True)\n",
        "test_dataloader = DataLoader(test_dataset, batch_size=1024, shuffle=True)"
      ],
      "id": "cda4098f4c47deb2",
      "outputs": [],
      "execution_count": null
    },
    {
      "metadata": {
        "id": "7adbb56cd55a913a"
      },
      "cell_type": "markdown",
      "source": [
        "## 모델 설계 및 선택\n",
        "이미지 패턴 탐지에 적합한 convolution layer 를 활용, 이후 fully connected layer 를 통해 0 ~ 9 까지 10개의 카테고리 중 하나를 선택하도록 설계"
      ],
      "id": "7adbb56cd55a913a"
    },
    {
      "cell_type": "code",
      "id": "e73fbf86",
      "metadata": {
        "ExecuteTime": {
          "end_time": "2025-04-15T12:30:25.627434Z",
          "start_time": "2025-04-15T12:30:25.609048Z"
        },
        "id": "e73fbf86"
      },
      "source": [
        "import torch\n",
        "import torch.nn as nn\n",
        "\n",
        "\n",
        "class SampleModel(nn.Module):\n",
        "    def __init__(self):\n",
        "        super().__init__()\n",
        "        self.conv_block = nn.Sequential(\n",
        "            nn.Conv2d(1, 16, kernel_size=5, stride=2, padding=2),\n",
        "            nn.BatchNorm2d(16),  # BatchNormalization: 학습을 도와주는 역할\n",
        "            nn.ReLU(),\n",
        "            nn.Conv2d(16, 16, kernel_size=5, stride=2, padding=2),\n",
        "            nn.BatchNorm2d(16),\n",
        "            nn.ReLU()\n",
        "        )\n",
        "        self.dropout = nn.Dropout(.5)  # Dropout: 확률적으로 신호를 차단하여, 오버피팅 예방\n",
        "        self.fc = nn.Sequential(\n",
        "            nn.Flatten(),\n",
        "            nn.Linear(784, 256),\n",
        "            nn.ReLU(),\n",
        "            nn.Linear(256, 10)\n",
        "        )\n",
        "        self.softmax = nn.Softmax(dim=-1)\n",
        "\n",
        "    def forward(self, x, softmax=False):\n",
        "        if x.dim() == 3:\n",
        "            x = x.view(1, x.size(0), x.size(1), x.size(2))\n",
        "        x = self.conv_block(x)\n",
        "        x = self.dropout(x)\n",
        "        if softmax:\n",
        "            return self.softmax(self.fc(x))\n",
        "        return self.fc(x)\n"
      ],
      "outputs": [],
      "execution_count": null
    },
    {
      "metadata": {
        "id": "7c26d346608d1a06"
      },
      "cell_type": "markdown",
      "source": [
        "## 모델 학습 및 검증\n"
      ],
      "id": "7c26d346608d1a06"
    },
    {
      "cell_type": "code",
      "id": "3c04e81b",
      "metadata": {
        "ExecuteTime": {
          "end_time": "2025-04-15T12:32:35.660496Z",
          "start_time": "2025-04-15T12:32:35.634448Z"
        },
        "id": "3c04e81b"
      },
      "source": [
        "# 모델 하이퍼 파라미터 설정\n",
        "\n",
        "device = torch.device('cuda' if torch.cuda.is_available() else 'cpu')  # GPU 사용 가능할 시 사용, 그 외엔 CPU 사용\n",
        "model = SampleModel().to(device)  # 모델 선언\n",
        "criterion = nn.CrossEntropyLoss()  # CrossEntropyLoss: 다중 클래스 분류용 Loss\n",
        "learning_rate = 0.0001  # 학습률 선택\n",
        "optimizer = torch.optim.Adam(model.parameters(), lr=learning_rate)  # Adam Optimizer 선택: model의 파라미터에 대한 그래디언트 추적\n",
        "epochs = 30  # 학습 에폭 수\n"
      ],
      "outputs": [],
      "execution_count": null
    },
    {
      "cell_type": "code",
      "source": [
        "# 학습 전 모델 성능 체크\n",
        "import random\n",
        "\n",
        "\n",
        "def performance_check(model: nn.Module, dataset):\n",
        "    # 데이터셋에서 랜덤하게 10개 데이터 추출 후 모델 예측결과와 비교\n",
        "    # score 의 경우 softmax 의 값을 확률처럼 사용하였음\n",
        "    sample_images = []\n",
        "    sample_labels = []\n",
        "    for i in random.choices(range(len(dataset)), k=10):\n",
        "        sample_image, sample_label = dataset[i]\n",
        "        sample_images.append(sample_image)\n",
        "        sample_labels.append(sample_label)\n",
        "\n",
        "    model.eval()\n",
        "    plt.figure(figsize=(10, 6))\n",
        "    with torch.no_grad():\n",
        "        for i in range(10):\n",
        "            plt.subplot(2, 5, i + 1)\n",
        "            test_image = sample_images[i].to(device)\n",
        "            model_result = model(test_image, softmax=True)\n",
        "            pred_label = torch.argmax(model_result, dim=1).item()\n",
        "            pred_score = torch.max(model_result).item()\n",
        "            plt.title(f\"pred_label: {pred_label}\\nreal_label: {sample_labels[i]}\\nscore: {pred_score * 100: .2f}%\")\n",
        "            plt.imshow(test_image.squeeze(0).cpu().numpy(), cmap='gray')\n",
        "            plt.axis('off')\n",
        "        plt.show()\n",
        "\n",
        "\n",
        "performance_check(model, test_dataset)"
      ],
      "metadata": {
        "id": "4wUhvgPwFWhz"
      },
      "id": "4wUhvgPwFWhz",
      "execution_count": null,
      "outputs": []
    },
    {
      "cell_type": "code",
      "id": "c92209cc",
      "metadata": {
        "ExecuteTime": {
          "end_time": "2025-04-15T12:33:20.823754Z",
          "start_time": "2025-04-15T12:32:38.306508Z"
        },
        "id": "c92209cc"
      },
      "source": [
        "# 학습 및 검증 시작\n",
        "train_loss = []\n",
        "train_accuracy = []\n",
        "test_accuracy = []\n",
        "\n",
        "max_acc = 0.0\n",
        "best_model = model.state_dict().copy()  # 모델 기록\n",
        "\n",
        "for epoch in range(epochs):\n",
        "    model.train()  # 학습 모드: Dropout, BatchNorm 등이 학습 시 동작 방식으로 전환됨\n",
        "\n",
        "    running_loss = 0.0  # epoch 에 대한 train loss sum\n",
        "    correct = 0  # epoch 에 대한 train 적중 횟수\n",
        "    total = 0  # 총 train 데이터 수\n",
        "\n",
        "    for images, labels in train_dataloader:\n",
        "        images, labels = images.to(device), labels.to(device)\n",
        "\n",
        "        optimizer.zero_grad()  # 그래디언트 초기화\n",
        "        outputs = model(images)  # 모델 출력 (순전파)\n",
        "        loss = criterion(outputs, labels)  # 손실 측정\n",
        "        loss.backward()  # Autograd를 사용해 손실(loss)에 대한 각 파라미터의 gradient 계산.\n",
        "        optimizer.step()  # 계산된 gradient는 각 파라미터의 .grad 속성에 저장되며, 이후 optimizer.step()에서 이 값을 이용해 가중치가 갱신됨.\n",
        "\n",
        "        running_loss += loss.item() * images.size(0)\n",
        "        _, predicted = torch.max(outputs.data, 1)  # train 데이터에 대한 예상 라벨링\n",
        "        total += labels.size(0)\n",
        "        correct += (predicted == labels).sum().item()\n",
        "\n",
        "    epoch_loss = running_loss / total  # epoch 에 대한 train loss 평균\n",
        "    train_acc = correct / total  # epoch 에 대한 train 정확도 측정\n",
        "    train_loss.append(epoch_loss)  # train_loss 기록\n",
        "    train_accuracy.append(train_acc)  # train_accuracy 기록\n",
        "\n",
        "    model.eval()  # 검증 모드: Dropout, BatchNorm 멈춤\n",
        "    correct_test = 0  # epoch 에 대한 test 적중 횟수\n",
        "    total_test = 0  # 총 test 데이터 수\n",
        "    with torch.no_grad():  # gradient 자동 계산 멈춤\n",
        "        for images, labels in test_dataloader:\n",
        "            images, labels = images.to(device), labels.to(device)\n",
        "            outputs = model(images)\n",
        "            _, predicted = torch.max(outputs.data, 1)  # test 데이터에 대한 예상 라벨링\n",
        "            total_test += labels.size(0)\n",
        "            correct_test += (predicted == labels).sum().item()\n",
        "\n",
        "    test_acc = correct_test / total_test\n",
        "    test_accuracy.append(test_acc)  # test_accuracy 기록\n",
        "\n",
        "    if test_acc > max_acc:  # test 성능이 제일 높은 모델 기록\n",
        "        best_model = model.state_dict().copy()\n",
        "        max_acc = test_acc\n",
        "        torch.save(best_model, \"best_model.pt\")  # 모델 파라미터 정보 저장\n",
        "\n",
        "    print(f\"[Epoch {epoch + 1}/{epochs}] Loss: {epoch_loss:.4f}, Train Acc: {train_acc:.4f}, Test Acc: {test_acc:.4f}\")\n",
        "\n",
        "print(f\"Training done with best test accuracy: {max_acc * 100: .4f}%\")"
      ],
      "outputs": [],
      "execution_count": null
    },
    {
      "metadata": {
        "ExecuteTime": {
          "end_time": "2025-04-15T12:34:10.887803Z",
          "start_time": "2025-04-15T12:34:10.716411Z"
        },
        "id": "d16c3a902c5dbee2"
      },
      "cell_type": "code",
      "source": [
        "plt.figure(figsize=(10, 4))\n",
        "plt.subplot(1, 2, 1)\n",
        "plt.title(\"Train Loss\")\n",
        "plt.plot(train_loss, label=\"CrossEntropyLoss\")\n",
        "plt.legend()\n",
        "\n",
        "plt.subplot(1, 2, 2)\n",
        "plt.title(\"Accuracy\")\n",
        "plt.plot(train_accuracy, label='train')\n",
        "plt.plot(test_accuracy, label='test')\n",
        "plt.legend()\n",
        "plt.show()\n",
        "\n",
        "plt.show()"
      ],
      "id": "d16c3a902c5dbee2",
      "outputs": [],
      "execution_count": null
    },
    {
      "cell_type": "markdown",
      "source": [
        "## 저장된 모델 로드"
      ],
      "metadata": {
        "id": "hKkDygqKFo3p"
      },
      "id": "hKkDygqKFo3p"
    },
    {
      "metadata": {
        "id": "fe8af38a7d8e42be"
      },
      "cell_type": "code",
      "outputs": [],
      "execution_count": null,
      "source": [
        "saved_model = SampleModel()\n",
        "saved_model.load_state_dict(torch.load(\"best_model.pt\"))\n",
        "saved_model.to(device)"
      ],
      "id": "fe8af38a7d8e42be"
    },
    {
      "cell_type": "code",
      "source": [
        "# 로드된 모델 성능 평가\n",
        "performance_check(saved_model, test_dataset)"
      ],
      "metadata": {
        "id": "voiTOldOFrxB"
      },
      "id": "voiTOldOFrxB",
      "execution_count": null,
      "outputs": []
    },
    {
      "cell_type": "code",
      "source": [],
      "metadata": {
        "id": "bWE_DF0FHlrK"
      },
      "id": "bWE_DF0FHlrK",
      "execution_count": null,
      "outputs": []
    }
  ],
  "metadata": {
    "kernelspec": {
      "display_name": "Python 3",
      "name": "python3"
    },
    "language_info": {
      "codemirror_mode": {
        "name": "ipython",
        "version": 3
      },
      "file_extension": ".py",
      "mimetype": "text/x-python",
      "name": "python",
      "nbconvert_exporter": "python",
      "pygments_lexer": "ipython3",
      "version": "3.9.12"
    },
    "colab": {
      "provenance": [],
      "gpuType": "T4"
    },
    "accelerator": "GPU"
  },
  "nbformat": 4,
  "nbformat_minor": 5
}